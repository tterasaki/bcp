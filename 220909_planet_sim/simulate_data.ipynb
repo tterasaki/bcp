{
 "cells": [
  {
   "cell_type": "code",
   "execution_count": 1,
   "id": "6159e491-4555-4139-b6de-be3c1cad10bd",
   "metadata": {},
   "outputs": [
    {
     "name": "stdout",
     "output_type": "stream",
     "text": [
      "3.0.0a3\n"
     ]
    }
   ],
   "source": [
    "import toast\n",
    "print(toast.__version__)"
   ]
  },
  {
   "cell_type": "markdown",
   "id": "d6570a05-62d6-43e8-b65a-500d3470c535",
   "metadata": {},
   "source": [
    "# Make Schedule"
   ]
  },
  {
   "cell_type": "code",
   "execution_count": 6,
   "id": "44c75276-1e36-451d-8d1a-22571cc157a5",
   "metadata": {},
   "outputs": [
    {
     "name": "stdout",
     "output_type": "stream",
     "text": [
      "TOAST INFO: Adding patch \"Jupiter\"\n",
      "TOAST INFO: SSO format\n",
      "\u001b[0;33mWARNING\u001b[0m: AstropyDeprecationWarning: \"verbose\" was deprecated in version 1.15.0 and will be removed in a future version.  [healpy.visufunc]\n",
      "TOAST INFO: ('Jupiter',) corners:\n",
      " lon = [6.102629430354531, 13.242669119503045, 16.103861097684486, 13.214920836340875, 6.102629430354533, -1.0096619756318124, -3.8986022369754267, -1.0374102587939853, 6.102629430354531]\n",
      " lat= [10.899211918610895, 7.97027973047637, 0.8992119186108954, -6.1718558932545795, -9.100788081389105, -6.171855893254582, 0.8992119186108931, 7.970279730476368, 10.899211918610895]\n",
      "TOAST INFO: ('Jupiter',) corners:\n",
      " lon = [1.7055353163935214, 8.821114734516105, 11.706196869518411, 8.841449541771087, 1.7055353163935225, -5.430378908984043, -8.295126236731369, -5.410044101729064, 1.7055353163935214]\n",
      " lat= [9.340965694574262, 6.412033506439738, -0.659034305425737, -7.730102117291213, -10.659034305425736, -7.730102117291214, -0.6590343054257394, 6.4120335064397365, 9.340965694574262]\n",
      "TOAST INFO: ('Jupiter',) corners:\n",
      " lon = [1.7055353163935214, 8.821114734516105, 11.706196869518411, 8.841449541771087, 1.7055353163935225, -5.430378908984043, -8.295126236731369, -5.410044101729064, 1.7055353163935214]\n",
      " lat= [9.340965694574262, 6.412033506439738, -0.659034305425737, -7.730102117291213, -10.659034305425736, -7.730102117291214, -0.6590343054257394, 6.4120335064397365, 9.340965694574262]\n",
      "TOAST INFO: Global timer: toast_ground_schedule:  1.36 seconds (1 calls)\n"
     ]
    }
   ],
   "source": [
    "!toast_ground_schedule \\\n",
    "    --site-lat '-22.958064' \\\n",
    "    --site-lon \"-67.786222\" \\\n",
    "    --site-alt 5200 \\\n",
    "    --site-name Atacama \\\n",
    "    --telescope LAT \\\n",
    "    --start \"2023-01-01 00:00:00\" \\\n",
    "    --stop \"2023-01-02 00:00:00\" \\\n",
    "    --patch-coord C \\\n",
    "    --patch Jupiter,SSO,1,10\\\n",
    "    --el-min 40 \\\n",
    "    --el-max 60 \\\n",
    "    --ces-max-time 3600 \\\n",
    "    --gap-s 86400 \\\n",
    "    --gap-small-s 86400 \\\n",
    "    --sun-avoidance-angle 20 \\\n",
    "    --out schedule_Jupiter_oneshot.txt \\\n",
    "    --debug"
   ]
  },
  {
   "cell_type": "code",
   "execution_count": 7,
   "id": "c5e20f19-86ce-438e-a93e-ad59d025a330",
   "metadata": {},
   "outputs": [
    {
     "name": "stdout",
     "output_type": "stream",
     "text": [
      "#Site            Telescope        Latitude [deg] Longitude [deg]   Elevation [m]\n",
      " Atacama         LAT                     -22.958         -67.786          5200.0\n",
      "#      Start time UTC        Stop time UTC      Start MJD       Stop MJD Rotation Patch name                            Az min   Az max       El   R/S  Sun el1  Sun az1  Sun el2  Sun az2 Moon el1 Moon az1 Moon el2 Moon az2 Phase  Pass Sub\n",
      " 2023-01-01 00:00:00  2023-01-01 00:46:30    59945.000000   59945.032292     0.00 Jupiter                               279.78   309.28    42.74 S        -9.02   240.16   -18.02   234.22    54.44   358.40    52.27   339.98  0.70     0   0\n"
     ]
    }
   ],
   "source": [
    "!cat schedule_Jupiter_oneshot.txt"
   ]
  },
  {
   "cell_type": "code",
   "execution_count": null,
   "id": "18d459f7-0207-4f82-9ca3-dd6e995505d2",
   "metadata": {},
   "outputs": [],
   "source": []
  }
 ],
 "metadata": {
  "kernelspec": {
   "display_name": "20220909",
   "language": "python",
   "name": "20220909"
  },
  "language_info": {
   "codemirror_mode": {
    "name": "ipython",
    "version": 3
   },
   "file_extension": ".py",
   "mimetype": "text/x-python",
   "name": "python",
   "nbconvert_exporter": "python",
   "pygments_lexer": "ipython3",
   "version": "3.8.10"
  }
 },
 "nbformat": 4,
 "nbformat_minor": 5
}
